{
 "cells": [
  {
   "cell_type": "markdown",
   "metadata": {},
   "source": [
    "You will need the class Car for the next exercises. The class Car has four data attributes: make, model, colour and number of owners (owner_number). The method <code> car_info() </code>  prints out the data attributes and the method <code>sell()</code> increments the number of owners. "
   ]
  },
  {
   "cell_type": "code",
   "execution_count": 1,
   "metadata": {},
   "outputs": [],
   "source": [
    "class Car(object):\n",
    "    def __init__(self,make,model,color):\n",
    "        self.make=make;\n",
    "        self.model=model;\n",
    "        self.color=color;\n",
    "        self.owner_number=0 \n",
    "    def car_info(self):\n",
    "        print(\"make: \",self.make)\n",
    "        print(\"model:\", self.model)\n",
    "        print(\"color:\",self.color)\n",
    "        print(\"number of owners:\",self.owner_number)\n",
    "    def sell(self):\n",
    "        self.owner_number=self.owner_number+1\n"
   ]
  },
  {
   "cell_type": "markdown",
   "metadata": {},
   "source": [
    "<h3> Create a Car object </h3>"
   ]
  },
  {
   "cell_type": "markdown",
   "metadata": {},
   "source": [
    "Create a <code> Car </code> object my_car with the given data attributes: "
   ]
  },
  {
   "cell_type": "code",
   "execution_count": 48,
   "metadata": {},
   "outputs": [
    {
     "name": "stdout",
     "output_type": "stream",
     "text": [
      "marca ford\n",
      "modelo fiesta\n",
      "año 2020\n",
      "fecha 2009\n",
      "Veces vendido 0\n",
      "marca ford\n",
      "modelo fiesta\n",
      "año 2020\n",
      "fecha 2009\n",
      "Veces vendido 1\n",
      "marca ford\n",
      "modelo fiesta\n",
      "año 2020\n",
      "fecha 2009\n",
      "Veces vendido 2\n",
      "marca ford\n",
      "modelo fiesta\n",
      "año 2020\n",
      "fecha 2009\n",
      "Veces vendido 3\n",
      "marca ford\n",
      "modelo fiesta\n",
      "año 2020\n",
      "fecha 2009\n",
      "Veces vendido 4\n",
      "marca ford\n",
      "modelo fiesta\n",
      "año 2020\n",
      "fecha 2009\n",
      "Veces vendido 5\n"
     ]
    }
   ],
   "source": [
    "make=\"BMW\"\n",
    "model=\"M3\"\n",
    "color=\"red\"\n",
    "\n",
    "my_car=Car(\"BMW\",\"M3\",\"red\")\n",
    "\n",
    "class Coche(object):\n",
    "    def __init__(self, marca, modelo, año, fecha):\n",
    "        self.marca=marca;\n",
    "        self.modelo=modelo;\n",
    "        self.año=año;\n",
    "        self.fecha=fecha;\n",
    "        self.ventas=0\n",
    "    def caracteristicas(self):\n",
    "        print(\"marca\",self.marca)\n",
    "        print(\"modelo\", self.modelo)\n",
    "        print(\"año\", self.año)\n",
    "        print(\"fecha\", self.fecha)\n",
    "        print(\"Veces vendido\", self.ventas)\n",
    "    def vender(self):\n",
    "        self.ventas+=1\n",
    "        \n",
    "marca, modelo, año= \"ford\", \"fiesta\", \"2020\", \n",
    "\n",
    "mi_coche= Coche(\"ford\", \"fiesta\", \"2020\", \"2009\")\n",
    "mi_coche.caracteristicas()\n",
    "\n",
    "for i in range(5):\n",
    "    mi_coche.vender()\n",
    "    mi_coche.caracteristicas()\n",
    "\n",
    "\n",
    "\n",
    "    "
   ]
  },
  {
   "cell_type": "markdown",
   "metadata": {},
   "source": [
    "<h3> Data Attributes </h3>"
   ]
  },
  {
   "cell_type": "markdown",
   "metadata": {},
   "source": [
    "Use the method car_info() to print out the data attributes"
   ]
  },
  {
   "cell_type": "code",
   "execution_count": 18,
   "metadata": {
    "collapsed": false,
    "jupyter": {
     "outputs_hidden": false
    }
   },
   "outputs": [
    {
     "name": "stdout",
     "output_type": "stream",
     "text": [
      "make:  ford\n",
      "model: fiesta\n",
      "color: blue\n",
      "number of owners: 0\n"
     ]
    }
   ],
   "source": [
    "my_car.car_info()\n"
   ]
  },
  {
   "cell_type": "markdown",
   "metadata": {},
   "source": [
    "<h3> Methods  </h3>"
   ]
  },
  {
   "cell_type": "markdown",
   "metadata": {},
   "source": [
    "Call the method <code> sell() </code> in the loop, then call the method <code> car_info()</code> again "
   ]
  },
  {
   "cell_type": "code",
   "execution_count": 40,
   "metadata": {
    "collapsed": false,
    "jupyter": {
     "outputs_hidden": false
    }
   },
   "outputs": [
    {
     "name": "stdout",
     "output_type": "stream",
     "text": [
      "make:  BMW\n",
      "model: M3\n",
      "color: red\n",
      "number of owners: 1\n",
      "make:  BMW\n",
      "model: M3\n",
      "color: red\n",
      "number of owners: 2\n",
      "make:  BMW\n",
      "model: M3\n",
      "color: red\n",
      "number of owners: 3\n",
      "make:  BMW\n",
      "model: M3\n",
      "color: red\n",
      "number of owners: 4\n",
      "make:  BMW\n",
      "model: M3\n",
      "color: red\n",
      "number of owners: 5\n"
     ]
    }
   ],
   "source": [
    "for i in range(5):\n",
    "    my_car.sell()\n",
    "    my_car.car_info()\n",
    "    \n"
   ]
  },
  {
   "cell_type": "markdown",
   "metadata": {},
   "source": [
    "<hr>\n",
    "<small>Copyright &copy; 2018 IBM Cognitive Class. This notebook and its source code are released under the terms of the [MIT License](https://cognitiveclass.ai/mit-license/).</small>"
   ]
  }
 ],
 "metadata": {
  "kernelspec": {
   "display_name": "Python 3",
   "language": "python",
   "name": "python3"
  },
  "language_info": {
   "codemirror_mode": {
    "name": "ipython",
    "version": 3
   },
   "file_extension": ".py",
   "mimetype": "text/x-python",
   "name": "python",
   "nbconvert_exporter": "python",
   "pygments_lexer": "ipython3",
   "version": "3.7.6"
  }
 },
 "nbformat": 4,
 "nbformat_minor": 4
}
