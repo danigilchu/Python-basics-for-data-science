{
 "cells": [
  {
   "cell_type": "code",
   "execution_count": 92,
   "metadata": {},
   "outputs": [
    {
     "name": "stdout",
     "output_type": "stream",
     "text": [
      "hola\n",
      "que \n",
      "tal \n",
      "estas\n",
      "tu\n",
      "hola\n",
      "\n"
     ]
    }
   ],
   "source": [
    "# with open ver lo que hay en el documento\n",
    "with open(\"/Users\\danig\\Desktop/IBM programs/Python Data Science/Python basics for Data Science/Prueba.txt\",\"r\") as file1:\n",
    "    file_cosas=file1.read()\n",
    "    print(file_cosas)\n",
    "\n"
   ]
  },
  {
   "cell_type": "code",
   "execution_count": 95,
   "metadata": {},
   "outputs": [
    {
     "name": "stdout",
     "output_type": "stream",
     "text": [
      "hola\n",
      "\n",
      "que \n",
      "\n"
     ]
    }
   ],
   "source": [
    "with open(\"/Users\\danig\\Desktop/IBM programs/Python Data Science/Python basics for Data Science/Prueba.txt\",\"r\") as file1:\n",
    "    primera_linea=file1.readline()\n",
    "    print(primera_linea)\n",
    "    segunda_linea=file1.readline()\n",
    "    print(segunda_linea)\n",
    "\n",
    " \n",
    "    \n"
   ]
  },
  {
   "cell_type": "code",
   "execution_count": 122,
   "metadata": {},
   "outputs": [
    {
     "name": "stdout",
     "output_type": "stream",
     "text": [
      "This is line 1\n",
      "\n",
      "This is line 2\n",
      "\n"
     ]
    }
   ],
   "source": [
    "# Da igual lo que pongas como variable, siempre va a pintar la linea de despues\n",
    "with open(\"/Users\\danig\\Desktop/IBM programs/Python Data Science/Python basics for Data Science/Prueba.txt\",\"r\") as file1:\n",
    "    x=file1.readline()\n",
    "    print(x)\n",
    "    x=file1.readline()\n",
    "    print(x)\n",
    "    \n",
    "    "
   ]
  },
  {
   "cell_type": "code",
   "execution_count": 123,
   "metadata": {},
   "outputs": [
    {
     "name": "stdout",
     "output_type": "stream",
     "text": [
      "This is line 1\n",
      "\n",
      "This \n",
      "is line 2\n"
     ]
    }
   ],
   "source": [
    "with open(\"/Users\\danig\\Desktop/IBM programs/Python Data Science/Python basics for Data Science/Prueba.txt\",\"r\") as file1:\n",
    "    x=file1.readline(16)\n",
    "    print(x)\n",
    "    z=file1.readline(5)\n",
    "    print(z)\n",
    "    y=file1.readline(9)\n",
    "    print(y)\n"
   ]
  },
  {
   "cell_type": "code",
   "execution_count": 24,
   "metadata": {},
   "outputs": [
    {
     "data": {
      "text/html": [
       "<div>\n",
       "<style scoped>\n",
       "    .dataframe tbody tr th:only-of-type {\n",
       "        vertical-align: middle;\n",
       "    }\n",
       "\n",
       "    .dataframe tbody tr th {\n",
       "        vertical-align: top;\n",
       "    }\n",
       "\n",
       "    .dataframe thead th {\n",
       "        text-align: right;\n",
       "    }\n",
       "</style>\n",
       "<table border=\"1\" class=\"dataframe\">\n",
       "  <thead>\n",
       "    <tr style=\"text-align: right;\">\n",
       "      <th></th>\n",
       "      <th>City</th>\n",
       "      <th>Colors Reported</th>\n",
       "      <th>Shape Reported</th>\n",
       "      <th>State</th>\n",
       "    </tr>\n",
       "  </thead>\n",
       "  <tbody>\n",
       "    <tr>\n",
       "      <th>0</th>\n",
       "      <td>Ithaca</td>\n",
       "      <td>NaN</td>\n",
       "      <td>TRIANGLE</td>\n",
       "      <td>NY</td>\n",
       "    </tr>\n",
       "    <tr>\n",
       "      <th>1</th>\n",
       "      <td>Willingboro</td>\n",
       "      <td>NaN</td>\n",
       "      <td>OTHER</td>\n",
       "      <td>NJ</td>\n",
       "    </tr>\n",
       "  </tbody>\n",
       "</table>\n",
       "</div>"
      ],
      "text/plain": [
       "          City Colors Reported Shape Reported State\n",
       "0       Ithaca             NaN       TRIANGLE    NY\n",
       "1  Willingboro             NaN          OTHER    NJ"
      ]
     },
     "execution_count": 24,
     "metadata": {},
     "output_type": "execute_result"
    }
   ],
   "source": [
    "# Pandas:\n",
    "\n",
    "import pandas as pd\n",
    "\n",
    "ufo=pd.read_csv('http://bit.ly/uforeports')\n",
    "ufo.head(3)\n",
    "\n",
    "ufo.loc[0,:]\n",
    "\n",
    "ufo.loc[[0,1,2],:]\n",
    "\n",
    "ufo.loc[0:2,:]\n",
    "\n",
    "ufo.loc[0:2,[\"City\", \"State\"]]\n",
    "\n",
    "ufo.loc[0:2,\"City\":\"State\"]\n",
    "\n",
    "\n",
    "\n",
    "ufo.iloc[:,[0,3]]\n",
    "\n",
    "ufo.iloc[0:2,0:4]"
   ]
  },
  {
   "cell_type": "code",
   "execution_count": 30,
   "metadata": {},
   "outputs": [],
   "source": [
    "# whit open write:\n",
    "# w create a new file\n",
    "Lines=[\"This is line A \\n\",\"This is line B \\n\",\"This is line C \\n\"]\n",
    "with open(\"/Users\\danig\\Desktop/IBM programs/Python Data Science/Python basics for Data Science/Prueba_escritura.txt\",\"w\") as file1:\n",
    "    for i in Lines:\n",
    "        file1.write(i)\n",
    "\n",
    "# a to append sth to an existing file\n",
    "with open(\"/Users\\danig\\Desktop/IBM programs/Python Data Science/Python basics for Data Science/Prueba_escritura.txt\",\"a\") as file1:\n",
    "    file1.write(\"This is line 4 \\n\")\n",
    "    file1.write(\"This is line 5 \\n\")\n",
    "\n"
   ]
  },
  {
   "cell_type": "code",
   "execution_count": 62,
   "metadata": {},
   "outputs": [
    {
     "name": "stdout",
     "output_type": "stream",
     "text": [
      "                       Album  Released    Length\n",
      "0                   Thriller      1982  00:42:19\n",
      "1              Back in Black      1980  00:42:11\n",
      "2  The Dark Side of the Moon      1973  00:42:49\n",
      "     Length\n",
      "0  00:42:19\n",
      "1  00:42:11\n",
      "2  00:42:49\n",
      "                       Album  Released    Length\n",
      "0                   Thriller      1982  00:42:19\n",
      "1              Back in Black      1980  00:42:11\n",
      "2  The Dark Side of the Moon      1973  00:42:49\n",
      "           Album  Released    Length\n",
      "0       Thriller      1982  00:42:19\n",
      "1  Back in Black      1980  00:42:11\n",
      "[1982 1980 1973]\n"
     ]
    },
    {
     "data": {
      "text/plain": [
       "'\"csv_path=\"files1.csv\"\\ndf=pd.read_csv(csv_path) # data in a dataframe\\ndf.head() '"
      ]
     },
     "execution_count": 62,
     "metadata": {},
     "output_type": "execute_result"
    }
   ],
   "source": [
    "import pandas as pd\n",
    "songs={'Album':['Thriller','Back in Black','The Dark Side of the Moon'], 'Released':[1982,1980,1973],\n",
    "      'Length':['00:42:19','00:42:11','00:42:49']}\n",
    "songs_frames=pd.DataFrame(songs) # Create a data frame out of a dictionary\n",
    "print(songs_frames)\n",
    "x=songs_frames[['Length']]\n",
    "print(x)\n",
    "\n",
    "y=songs_frames[[\"Album\",\"Released\",\"Length\"]]\n",
    "print(y)\n",
    "\n",
    "#Prueba sin usar nombres\n",
    "z=songs_frames[0:2]\n",
    "print(z)\n",
    "\n",
    "\n",
    "\n",
    "\n",
    "\n",
    "\"\"\"\"csv_path=\"files1.csv\"\n",
    "df=pd.read_csv(csv_path) # data in a dataframe\n",
    "df.head() \"\"\""
   ]
  },
  {
   "cell_type": "code",
   "execution_count": 52,
   "metadata": {},
   "outputs": [
    {
     "name": "stdout",
     "output_type": "stream",
     "text": [
      "    a   b\n",
      "0  11  21\n",
      "1  21  22\n",
      "2  31  23\n",
      "    a   b\n",
      "0  11  21\n",
      "1  21  22\n",
      "2  31  23\n"
     ]
    },
    {
     "data": {
      "text/plain": [
       "0    11\n",
       "1    21\n",
       "2    31\n",
       "Name: a, dtype: int64"
      ]
     },
     "execution_count": 52,
     "metadata": {},
     "output_type": "execute_result"
    }
   ],
   "source": [
    "import pandas as pd\n",
    "\n",
    "tabla=pd.DataFrame({'a':[11,21,31],'b':[21,22,23]})\n",
    "print(tabla)\n",
    "\n",
    "# Plot the first three rows:\n",
    "print(tabla.head(3))\n",
    "\n",
    "\n",
    "# Obtain column 'a'\n",
    "tabla['a']"
   ]
  },
  {
   "cell_type": "code",
   "execution_count": 2,
   "metadata": {},
   "outputs": [
    {
     "name": "stdout",
     "output_type": "stream",
     "text": [
      "   Released\n",
      "0      1982\n",
      "1      1980\n",
      "2      1973\n",
      "3      1992\n",
      "4      1977\n",
      "5      1976\n",
      "6      1977\n",
      "7      1977\n",
      "[1982 1980 1973 1992 1977 1976]\n",
      "0     True\n",
      "1     True\n",
      "2    False\n",
      "3     True\n",
      "4    False\n",
      "5    False\n",
      "6    False\n",
      "7    False\n",
      "Name: Released, dtype: bool\n",
      "   Released\n",
      "0      1982\n",
      "1      1980\n",
      "2      1973\n",
      "3      1992\n",
      "4      1977\n",
      "5      1976\n",
      "6      1977\n",
      "7      1977\n"
     ]
    }
   ],
   "source": [
    "#method unique()\n",
    "\n",
    "import pandas as pd\n",
    "\n",
    "años={'Released': [1982,1980,1973,1992,1977,1976,1977,1977]}\n",
    "\n",
    "años_data=pd.DataFrame(años)\n",
    "\n",
    "print(años_data)\n",
    "\n",
    "print(años_data['Released'].unique())\n",
    "\n",
    "print(años_data['Released']>=1980)\n",
    "\n",
    "años_data.to_csv('canciones_años')\n",
    "\n"
   ]
  },
  {
   "cell_type": "code",
   "execution_count": null,
   "metadata": {},
   "outputs": [],
   "source": [
    "# share link IBM Watson Studio\n",
    "\n",
    "https://eu-gb.dataplatform.cloud.ibm.com/analytics/notebooks/v2/ac8dd7df-6c96-4ed8-8600-bcf19857529b/view?access_token=582b5ac7713295ec082a419ecf1297b18f04e9dc51479ae0fd2facf735b05a92"
   ]
  }
 ],
 "metadata": {
  "kernelspec": {
   "display_name": "Python 3",
   "language": "python",
   "name": "python3"
  },
  "language_info": {
   "codemirror_mode": {
    "name": "ipython",
    "version": 3
   },
   "file_extension": ".py",
   "mimetype": "text/x-python",
   "name": "python",
   "nbconvert_exporter": "python",
   "pygments_lexer": "ipython3",
   "version": "3.7.6"
  }
 },
 "nbformat": 4,
 "nbformat_minor": 4
}
